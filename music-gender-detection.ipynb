{
  "nbformat": 4,
  "nbformat_minor": 0,
  "metadata": {
    "colab": {
      "name": "trabalho-musicas.ipynb",
      "provenance": [],
      "collapsed_sections": [],
      "include_colab_link": true
    },
    "kernelspec": {
      "name": "python3",
      "display_name": "Python 3"
    }
  },
  "cells": [
    {
      "cell_type": "markdown",
      "metadata": {
        "id": "view-in-github",
        "colab_type": "text"
      },
      "source": [
        "<a href=\"https://colab.research.google.com/github/mateusjunges/music-gender-detection/blob/master/music-gender-detection.ipynb\" target=\"_parent\"><img src=\"https://colab.research.google.com/assets/colab-badge.svg\" alt=\"Open In Colab\"/></a>"
      ]
    },
    {
      "cell_type": "code",
      "metadata": {
        "id": "ALaVpnVnMB2J",
        "colab_type": "code",
        "colab": {}
      },
      "source": [
        "# Imports\n",
        "import cv2\n",
        "import numpy as np\n",
        "import pandas as pd\n",
        "import re\n",
        "import math\n",
        "from skimage import feature\n",
        "from skimage.feature import hog\n",
        "from imutils import paths\n",
        "from google.colab.patches import cv2_imshow\n",
        "import os\n",
        "import librosa\n",
        "import matplotlib.pyplot as plt\n",
        "%matplotlib inline\n",
        "import csv\n",
        "\n",
        "from keras.preprocessing import image\n",
        "from keras.applications.inception_v3 import InceptionV3, preprocess_input\n",
        "from keras.models import Model\n",
        "from keras.layers import Input\n",
        "\n",
        "# Preprocessing\n",
        "from sklearn.model_selection import train_test_split\n",
        "from sklearn.preprocessing import LabelEncoder, StandardScaler\n",
        "\n",
        "#Keras\n",
        "import keras"
      ],
      "execution_count": 0,
      "outputs": []
    },
    {
      "cell_type": "code",
      "metadata": {
        "id": "1_C9yzRiWfan",
        "colab_type": "code",
        "colab": {}
      },
      "source": [
        "from keras import models\n",
        "from keras import layers"
      ],
      "execution_count": 0,
      "outputs": []
    },
    {
      "cell_type": "code",
      "metadata": {
        "id": "qEwDoamMNpPa",
        "colab_type": "code",
        "outputId": "fbb86db0-d524-4ca9-a7af-59a923b223c2",
        "colab": {
          "base_uri": "https://localhost:8080/",
          "height": 122
        }
      },
      "source": [
        "# mount the google drive:\n",
        "from google.colab import drive\n",
        "drive.mount('/content/drive')"
      ],
      "execution_count": 0,
      "outputs": [
        {
          "output_type": "stream",
          "text": [
            "Go to this URL in a browser: https://accounts.google.com/o/oauth2/auth?client_id=947318989803-6bn6qk8qdgf4n4g3pfee6491hc0brc4i.apps.googleusercontent.com&redirect_uri=urn%3Aietf%3Awg%3Aoauth%3A2.0%3Aoob&scope=email%20https%3A%2F%2Fwww.googleapis.com%2Fauth%2Fdocs.test%20https%3A%2F%2Fwww.googleapis.com%2Fauth%2Fdrive%20https%3A%2F%2Fwww.googleapis.com%2Fauth%2Fdrive.photos.readonly%20https%3A%2F%2Fwww.googleapis.com%2Fauth%2Fpeopleapi.readonly&response_type=code\n",
            "\n",
            "Enter your authorization code:\n",
            "··········\n",
            "Mounted at /content/drive\n"
          ],
          "name": "stdout"
        }
      ]
    },
    {
      "cell_type": "code",
      "metadata": {
        "id": "Maq9nlh4NgkC",
        "colab_type": "code",
        "colab": {}
      },
      "source": [
        "# Path to the songs:\n",
        "\n",
        "base_path        = \"/content/drive/My Drive\"\n",
        "workspace_folder = base_path + '/UEPG/eng-comp/4-ano/pattern-recognition/trabalho-musicas'\n",
        "main_folder_path = base_path + '/GTZAN' # The path to the main folder\n",
        "genders_path     = main_folder_path + '/genres'\n",
        "\n",
        "\n"
      ],
      "execution_count": 0,
      "outputs": []
    },
    {
      "cell_type": "code",
      "metadata": {
        "id": "YMztMPG7RrYj",
        "colab_type": "code",
        "colab": {}
      },
      "source": [
        "# Creating a dataset:\n",
        "\n",
        "# Generating headers for our CSV file.\n",
        "header = 'filename chroma_stft rmse spectral_centroid spectral_bandwidth rolloff zero_crossing_rate'\n",
        "for i in range(1, 21):\n",
        "    header += f' mfcc{i}'\n",
        "header += ' label'\n",
        "header = header.split()"
      ],
      "execution_count": 0,
      "outputs": []
    },
    {
      "cell_type": "code",
      "metadata": {
        "id": "andF9uzlSArp",
        "colab_type": "code",
        "outputId": "a221d727-1dd3-49e2-afec-b20a93ae4863",
        "colab": {
          "base_uri": "https://localhost:8080/",
          "height": 34
        }
      },
      "source": [
        "# Calculating features:\n",
        "data_csv = workspace_folder + '/data.csv'\n",
        "file = open(data_csv, 'w', newline='')\n",
        "with file:\n",
        "    writer = csv.writer(file)\n",
        "    writer.writerow(header)\n",
        "\n",
        "genres = 'blues classical country disco hiphop jazz metal pop reggae rock'\n",
        "genres = genres.split()\n",
        "\n",
        "print(genders_path)\n",
        "for gender in genres:\n",
        "    for filename in os.listdir(f'{genders_path}/{gender}'):\n",
        "        songname = f'{genders_path}/{gender}/{filename}'\n",
        "        y, sr = librosa.load(songname, mono=True, duration=30)\n",
        "        chroma_stft = librosa.feature.chroma_stft(y=y, sr=sr)\n",
        "        rmse = librosa.feature.rmse(y=y)\n",
        "        spec_cent = librosa.feature.spectral_centroid(y=y, sr=sr)\n",
        "        spec_bw = librosa.feature.spectral_bandwidth(y=y, sr=sr)\n",
        "        rolloff = librosa.feature.spectral_rolloff(y=y, sr=sr)\n",
        "        zcr = librosa.feature.zero_crossing_rate(y)\n",
        "        mfcc = librosa.feature.mfcc(y=y, sr=sr)\n",
        "        to_append = f'{filename} {np.mean(chroma_stft)} {np.mean(rmse)} {np.mean(spec_cent)} {np.mean(spec_bw)} {np.mean(rolloff)} {np.mean(zcr)}'    \n",
        "        for e in mfcc:\n",
        "            to_append += f' {np.mean(e)}'\n",
        "        to_append += f' {gender}'\n",
        "        file = open(data_csv, 'a', newline='')\n",
        "        with file:\n",
        "            writer = csv.writer(file)\n",
        "            writer.writerow(to_append.split())"
      ],
      "execution_count": 0,
      "outputs": [
        {
          "output_type": "stream",
          "text": [
            "/content/drive/My Drive/GTZAN/genres\n"
          ],
          "name": "stdout"
        }
      ]
    },
    {
      "cell_type": "code",
      "metadata": {
        "id": "vqEgDdInVmwe",
        "colab_type": "code",
        "colab": {}
      },
      "source": [
        "# Processing the generated CSV file:\n",
        "data = pd.read_csv(data_csv)\n",
        "data.head()"
      ],
      "execution_count": 0,
      "outputs": []
    },
    {
      "cell_type": "code",
      "metadata": {
        "id": "Ik7j5sbqVzfG",
        "colab_type": "code",
        "colab": {}
      },
      "source": [
        "# Dropping unneccesary columns\n",
        "data = data.drop(['filename'],axis=1) # The filename column is not required\n",
        "data.head()"
      ],
      "execution_count": 0,
      "outputs": []
    },
    {
      "cell_type": "code",
      "metadata": {
        "id": "jXnW6IftV5dh",
        "colab_type": "code",
        "colab": {}
      },
      "source": [
        "# Encode genres into integers\n",
        "\n",
        "genre_list = data.iloc[:, -1]\n",
        "encoder = LabelEncoder()\n",
        "y = encoder.fit_transform(genre_list)\n",
        "print(y)"
      ],
      "execution_count": 0,
      "outputs": []
    },
    {
      "cell_type": "code",
      "metadata": {
        "id": "kGNc_UD4WC3d",
        "colab_type": "code",
        "colab": {}
      },
      "source": [
        "# Normalizing the dataset:\n",
        "scaler = StandardScaler()\n",
        "X = scaler.fit_transform(np.array(data.iloc[:, :-1], dtype = float)) # x is calculated by removing the mean and dividing by the variance\n"
      ],
      "execution_count": 0,
      "outputs": []
    },
    {
      "cell_type": "code",
      "metadata": {
        "id": "XtqvTr7hWNgR",
        "colab_type": "code",
        "colab": {}
      },
      "source": [
        "# Split the dataset into training and test:\n",
        "X_train, X_test, y_train, y_test = train_test_split(X, y, test_size=0.3) # 70% train, 30% test\n"
      ],
      "execution_count": 0,
      "outputs": []
    },
    {
      "cell_type": "code",
      "metadata": {
        "id": "aCo1oY0VWWfa",
        "colab_type": "code",
        "colab": {}
      },
      "source": [
        "# Creating the model, training and testing:\n",
        "model = models.Sequential()\n",
        "model.add(layers.Dense(256, activation='relu', input_shape=(X_train.shape[1],)))\n",
        "model.add(layers.Dense(128, activation='relu'))\n",
        "model.add(layers.Dense(64, activation='relu'))\n",
        "model.add(layers.Dense(10, activation='softmax'))\n",
        "\n",
        "# There are 4 layers in our network. First one is an input layer therefore, input size has to be given. \n",
        "# Then there are 2 hidden layers and the last layer is an output layer. \n",
        "# The value inside dense represents the dimension of an output space.\n",
        "# So the 1st layer has 256 neurons so the dimension of it’s output space is 256.\n",
        "# Such that the output layer has 10 neurons as we are classifying into 10 genres.\n"
      ],
      "execution_count": 0,
      "outputs": []
    },
    {
      "cell_type": "code",
      "metadata": {
        "id": "O1ETT54TWtBm",
        "colab_type": "code",
        "colab": {}
      },
      "source": [
        "# Learning process of the model\n",
        "model.compile(optimizer='adam',\n",
        "              loss='sparse_categorical_crossentropy',\n",
        "              metrics=['accuracy'])"
      ],
      "execution_count": 0,
      "outputs": []
    },
    {
      "cell_type": "code",
      "metadata": {
        "id": "rZSqQBWHW13j",
        "colab_type": "code",
        "colab": {}
      },
      "source": [
        "# Training the model:\n",
        "history = model.fit(X_train,\n",
        "                    y_train,\n",
        "                    epochs=20,\n",
        "                    batch_size=128)\n"
      ],
      "execution_count": 0,
      "outputs": []
    },
    {
      "cell_type": "code",
      "metadata": {
        "id": "WjbaDc63W7NA",
        "colab_type": "code",
        "outputId": "fde5345c-066a-403d-fdaf-e9d3b365552a",
        "colab": {
          "base_uri": "https://localhost:8080/",
          "height": 51
        }
      },
      "source": [
        "# Evaluating the model:\n",
        "test_loss, test_acc = model.evaluate(X_test,y_test)\n",
        "print('Test Accuracy: ', test_acc)"
      ],
      "execution_count": 0,
      "outputs": [
        {
          "output_type": "stream",
          "text": [
            "300/300 [==============================] - 0s 60us/step\n",
            "Test Accuracy:  0.6299999996026358\n"
          ],
          "name": "stdout"
        }
      ]
    },
    {
      "cell_type": "code",
      "metadata": {
        "id": "iGcHzTwLXI2J",
        "colab_type": "code",
        "colab": {}
      },
      "source": [
        "# Predictions\n",
        "predictions = model.predict(X_test)\n",
        "np.argmax(predictions[0])"
      ],
      "execution_count": 0,
      "outputs": []
    },
    {
      "cell_type": "code",
      "metadata": {
        "id": "PAjhTnZ6cNXt",
        "colab_type": "code",
        "colab": {}
      },
      "source": [
        "from sklearn.svm import SVC\n",
        "from sklearn import model_selection\n",
        "from sklearn.naive_bayes import GaussianNB\n",
        "from sklearn.neural_network  import MLPClassifier\n",
        "from sklearn.model_selection import GridSearchCV\n",
        "\n",
        "# Creating all classifiers:\n",
        "svm_classifier = SVC(gamma='scale')\n",
        "\n",
        "# parameters for SVM\n",
        "parameters = [\n",
        "  {'C': [0.1, 0.5, 1, 10, 100, 500, 1000], 'kernel': ['poly']},\n",
        "  {'C': [0.1, 0.5, 1, 10, 100, 500, 1000], 'gamma': [0.1, 0.001, 0.0001, 0.00001], 'kernel': ['rbf']},\n",
        "]\n",
        "\n",
        "svm = GridSearchCV(svm, parameters, scoring = 'accuracy', cv=10, iid=False)\n",
        "logistic_regression = LogisticRegression(C=1e5, solver='lbfgs', multi_class='multinomial')\n",
        "nb = GaussianNB(var_smoothing=1e-09)\n",
        "\n",
        "rng = np.random.RandomState(123)\n",
        "mlp = MLPClassifier(solver='lbfgs', hidden_layer_sizes=(100), activation='logistic', batch_size=100, max_iter=2000, learning_rate_init=0.1, momentum=0.2, tol=1e-10, random_state=rng)\n",
        "\n",
        "methods = [svm_classifier, logistic_regression, nb, mlp]\n",
        "titles = [\"SVM\", \"Logistic Regression\", \"Naive Bayes\", \"MLP\"]"
      ],
      "execution_count": 0,
      "outputs": []
    },
    {
      "cell_type": "code",
      "metadata": {
        "id": "KnHa65NFdXGX",
        "colab_type": "code",
        "colab": {}
      },
      "source": [
        "scores = []\n",
        "cross_validation_results = []\n",
        "\n",
        "folds = 10\n",
        "\n",
        "for method, name in zip(methods, titles):\n",
        "  method.fit(X_train, y_train)\n",
        "  scores.append(method.score(X_test, y_test))\n",
        "  method_score = method.score(X_test, y_test)\n",
        "  print(\"Classification accuracy for {} = {}\"\n",
        "        .format(name, method_score))\n",
        "  # Using cross validation:\n",
        "  result = model_selection.cross_val_score(method, X_train, y_train, cv=folds)\n",
        "  cross_validation_results.append(result)\n",
        "  print(\"Result using cross validation for {} = {}\"\n",
        "        .format(name, result.mean()))\n",
        "\n",
        "  \n",
        "# Classification accuracy for SVM = 0.6166666666666667\n",
        "# Result using cross validation for SVM = 0.6503404406977297\n",
        "# Classification accuracy for Logistic Regression = 0.61\n",
        "# Result using cross validation for Logistic Regression = 0.5956469313731987\n",
        "# Classification accuracy for Naive Bayes = 0.43333333333333335\n",
        "# Result using cross validation for Naive Bayes = 0.4234869954804529\n",
        "# Classification accuracy for MLP = 0.6833333333333333\n",
        "# Result using cross validation for MLP = 0.6615183732887056"
      ],
      "execution_count": 0,
      "outputs": []
    },
    {
      "cell_type": "code",
      "metadata": {
        "id": "gu-jZ59qZ0KY",
        "colab_type": "code",
        "colab": {}
      },
      "source": [
        ""
      ],
      "execution_count": 0,
      "outputs": []
    }
  ]
}